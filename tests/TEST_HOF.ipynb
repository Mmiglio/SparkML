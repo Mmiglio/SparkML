{
 "cells": [
  {
   "cell_type": "code",
   "execution_count": 1,
   "metadata": {},
   "outputs": [
    {
     "data": {
      "text/html": [
       "\n",
       "            <div>\n",
       "                <p><b>SparkSession - hive</b></p>\n",
       "                \n",
       "        <div>\n",
       "            <p><b>SparkContext</b></p>\n",
       "\n",
       "            <p><a href=\"http://ithdp1063.cern.ch:5200\">Spark UI</a></p>\n",
       "\n",
       "            <dl>\n",
       "              <dt>Version</dt>\n",
       "                <dd><code>v2.4.0</code></dd>\n",
       "              <dt>Master</dt>\n",
       "                <dd><code>local[32]</code></dd>\n",
       "              <dt>AppName</dt>\n",
       "                <dd><code>PySparkShell</code></dd>\n",
       "            </dl>\n",
       "        </div>\n",
       "        \n",
       "            </div>\n",
       "        "
      ],
      "text/plain": [
       "<pyspark.sql.session.SparkSession at 0x7f67597ba350>"
      ]
     },
     "execution_count": 1,
     "metadata": {},
     "output_type": "execute_result"
    }
   ],
   "source": [
    "spark"
   ]
  },
  {
   "cell_type": "markdown",
   "metadata": {},
   "source": [
    "## Load ROOT files"
   ]
  },
  {
   "cell_type": "code",
   "execution_count": 2,
   "metadata": {},
   "outputs": [],
   "source": [
    "requiredColumns = [\"EFlowTrack\", \"MuonTight_size\", \"Electron_size\",\n",
    "                   \"EFlowNeutralHadron\", \"EFlowPhoton\", \"Electron\",\n",
    "                   \"MuonTight\", \"MissingET\", \"Jet\"]"
   ]
  },
  {
   "cell_type": "code",
   "execution_count": 3,
   "metadata": {},
   "outputs": [],
   "source": [
    "df = spark.read.format(\"org.dianahep.sparkroot.experimental\")\\\n",
    "        .load(\"file:///afs/cern.ch/work/m/migliori/public/SparkPipeline/data/qcd*.root\") \\\n",
    "        .select(*requiredColumns)"
   ]
  },
  {
   "cell_type": "code",
   "execution_count": 4,
   "metadata": {},
   "outputs": [
    {
     "name": "stdout",
     "output_type": "stream",
     "text": [
      "root\n",
      " |-- EFlowTrack: array (nullable = true)\n",
      " |    |-- element: struct (containsNull = true)\n",
      " |    |    |-- fUniqueID: integer (nullable = true)\n",
      " |    |    |-- fBits: integer (nullable = true)\n",
      " |    |    |-- PID: integer (nullable = true)\n",
      " |    |    |-- Charge: integer (nullable = true)\n",
      " |    |    |-- PT: float (nullable = true)\n",
      " |    |    |-- Eta: float (nullable = true)\n",
      " |    |    |-- Phi: float (nullable = true)\n",
      " |    |    |-- EtaOuter: float (nullable = true)\n",
      " |    |    |-- PhiOuter: float (nullable = true)\n",
      " |    |    |-- X: float (nullable = true)\n",
      " |    |    |-- Y: float (nullable = true)\n",
      " |    |    |-- Z: float (nullable = true)\n",
      " |    |    |-- T: float (nullable = true)\n",
      " |    |    |-- XOuter: float (nullable = true)\n",
      " |    |    |-- YOuter: float (nullable = true)\n",
      " |    |    |-- ZOuter: float (nullable = true)\n",
      " |    |    |-- TOuter: float (nullable = true)\n",
      " |    |    |-- Dxy: float (nullable = true)\n",
      " |    |    |-- SDxy: float (nullable = true)\n",
      " |    |    |-- Xd: float (nullable = true)\n",
      " |    |    |-- Yd: float (nullable = true)\n",
      " |    |    |-- Zd: float (nullable = true)\n",
      " |    |    |-- EFlowTrack_Particle: struct (nullable = true)\n",
      " |    |    |    |-- TObject: struct (nullable = true)\n",
      " |    |    |    |    |-- fUniqueID: integer (nullable = true)\n",
      " |    |    |    |    |-- fBits: integer (nullable = true)\n",
      " |-- MuonTight_size: integer (nullable = true)\n",
      " |-- Electron_size: integer (nullable = true)\n",
      " |-- EFlowNeutralHadron: array (nullable = true)\n",
      " |    |-- element: struct (containsNull = true)\n",
      " |    |    |-- fUniqueID: integer (nullable = true)\n",
      " |    |    |-- fBits: integer (nullable = true)\n",
      " |    |    |-- ET: float (nullable = true)\n",
      " |    |    |-- Eta: float (nullable = true)\n",
      " |    |    |-- Phi: float (nullable = true)\n",
      " |    |    |-- E: float (nullable = true)\n",
      " |    |    |-- T: float (nullable = true)\n",
      " |    |    |-- NTimeHits: integer (nullable = true)\n",
      " |    |    |-- Eem: float (nullable = true)\n",
      " |    |    |-- Ehad: float (nullable = true)\n",
      " |    |    |-- Edges: array (nullable = true)\n",
      " |    |    |    |-- element: float (containsNull = true)\n",
      " |-- EFlowPhoton: array (nullable = true)\n",
      " |    |-- element: struct (containsNull = true)\n",
      " |    |    |-- fUniqueID: integer (nullable = true)\n",
      " |    |    |-- fBits: integer (nullable = true)\n",
      " |    |    |-- ET: float (nullable = true)\n",
      " |    |    |-- Eta: float (nullable = true)\n",
      " |    |    |-- Phi: float (nullable = true)\n",
      " |    |    |-- E: float (nullable = true)\n",
      " |    |    |-- T: float (nullable = true)\n",
      " |    |    |-- NTimeHits: integer (nullable = true)\n",
      " |    |    |-- Eem: float (nullable = true)\n",
      " |    |    |-- Ehad: float (nullable = true)\n",
      " |    |    |-- Edges: array (nullable = true)\n",
      " |    |    |    |-- element: float (containsNull = true)\n",
      " |-- Electron: array (nullable = true)\n",
      " |    |-- element: struct (containsNull = true)\n",
      " |    |    |-- fUniqueID: integer (nullable = true)\n",
      " |    |    |-- fBits: integer (nullable = true)\n",
      " |    |    |-- PT: float (nullable = true)\n",
      " |    |    |-- Eta: float (nullable = true)\n",
      " |    |    |-- Phi: float (nullable = true)\n",
      " |    |    |-- T: float (nullable = true)\n",
      " |    |    |-- Charge: integer (nullable = true)\n",
      " |    |    |-- EhadOverEem: float (nullable = true)\n",
      " |    |    |-- Electron_Particle: struct (nullable = true)\n",
      " |    |    |    |-- TObject: struct (nullable = true)\n",
      " |    |    |    |    |-- fUniqueID: integer (nullable = true)\n",
      " |    |    |    |    |-- fBits: integer (nullable = true)\n",
      " |    |    |-- IsolationVar: float (nullable = true)\n",
      " |    |    |-- IsolationVarRhoCorr: float (nullable = true)\n",
      " |    |    |-- SumPtCharged: float (nullable = true)\n",
      " |    |    |-- SumPtNeutral: float (nullable = true)\n",
      " |    |    |-- SumPtChargedPU: float (nullable = true)\n",
      " |    |    |-- SumPt: float (nullable = true)\n",
      " |-- MuonTight: array (nullable = true)\n",
      " |    |-- element: struct (containsNull = true)\n",
      " |    |    |-- fUniqueID: integer (nullable = true)\n",
      " |    |    |-- fBits: integer (nullable = true)\n",
      " |    |    |-- PT: float (nullable = true)\n",
      " |    |    |-- Eta: float (nullable = true)\n",
      " |    |    |-- Phi: float (nullable = true)\n",
      " |    |    |-- T: float (nullable = true)\n",
      " |    |    |-- Charge: integer (nullable = true)\n",
      " |    |    |-- MuonTight_Particle: struct (nullable = true)\n",
      " |    |    |    |-- TObject: struct (nullable = true)\n",
      " |    |    |    |    |-- fUniqueID: integer (nullable = true)\n",
      " |    |    |    |    |-- fBits: integer (nullable = true)\n",
      " |    |    |-- IsolationVar: float (nullable = true)\n",
      " |    |    |-- IsolationVarRhoCorr: float (nullable = true)\n",
      " |    |    |-- SumPtCharged: float (nullable = true)\n",
      " |    |    |-- SumPtNeutral: float (nullable = true)\n",
      " |    |    |-- SumPtChargedPU: float (nullable = true)\n",
      " |    |    |-- SumPt: float (nullable = true)\n",
      " |-- MissingET: array (nullable = true)\n",
      " |    |-- element: struct (containsNull = true)\n",
      " |    |    |-- fUniqueID: integer (nullable = true)\n",
      " |    |    |-- fBits: integer (nullable = true)\n",
      " |    |    |-- MET: float (nullable = true)\n",
      " |    |    |-- Eta: float (nullable = true)\n",
      " |    |    |-- Phi: float (nullable = true)\n",
      " |-- Jet: array (nullable = true)\n",
      " |    |-- element: struct (containsNull = true)\n",
      " |    |    |-- fUniqueID: integer (nullable = true)\n",
      " |    |    |-- fBits: integer (nullable = true)\n",
      " |    |    |-- PT: float (nullable = true)\n",
      " |    |    |-- Eta: float (nullable = true)\n",
      " |    |    |-- Phi: float (nullable = true)\n",
      " |    |    |-- T: float (nullable = true)\n",
      " |    |    |-- Mass: float (nullable = true)\n",
      " |    |    |-- DeltaEta: float (nullable = true)\n",
      " |    |    |-- DeltaPhi: float (nullable = true)\n",
      " |    |    |-- Flavor: integer (nullable = true)\n",
      " |    |    |-- FlavorAlgo: integer (nullable = true)\n",
      " |    |    |-- FlavorPhys: integer (nullable = true)\n",
      " |    |    |-- BTag: integer (nullable = true)\n",
      " |    |    |-- BTagAlgo: integer (nullable = true)\n",
      " |    |    |-- BTagPhys: integer (nullable = true)\n",
      " |    |    |-- TauTag: integer (nullable = true)\n",
      " |    |    |-- Charge: integer (nullable = true)\n",
      " |    |    |-- EhadOverEem: float (nullable = true)\n",
      " |    |    |-- NCharged: integer (nullable = true)\n",
      " |    |    |-- NNeutrals: integer (nullable = true)\n",
      " |    |    |-- Beta: float (nullable = true)\n",
      " |    |    |-- BetaStar: float (nullable = true)\n",
      " |    |    |-- MeanSqDeltaR: float (nullable = true)\n",
      " |    |    |-- PTD: float (nullable = true)\n",
      " |    |    |-- FracPt: array (nullable = true)\n",
      " |    |    |    |-- element: float (containsNull = true)\n",
      " |    |    |-- Tau: array (nullable = true)\n",
      " |    |    |    |-- element: float (containsNull = true)\n",
      " |    |    |-- TrimmedP4: array (nullable = true)\n",
      " |    |    |    |-- element: struct (containsNull = true)\n",
      " |    |    |    |    |-- TObject: struct (nullable = true)\n",
      " |    |    |    |    |    |-- fUniqueID: integer (nullable = true)\n",
      " |    |    |    |    |    |-- fBits: integer (nullable = true)\n",
      " |    |    |    |    |-- fP: struct (nullable = true)\n",
      " |    |    |    |    |    |-- TObject: struct (nullable = true)\n",
      " |    |    |    |    |    |    |-- fUniqueID: integer (nullable = true)\n",
      " |    |    |    |    |    |    |-- fBits: integer (nullable = true)\n",
      " |    |    |    |    |    |-- fX: double (nullable = true)\n",
      " |    |    |    |    |    |-- fY: double (nullable = true)\n",
      " |    |    |    |    |    |-- fZ: double (nullable = true)\n",
      " |    |    |    |    |-- fE: double (nullable = true)\n",
      " |    |    |-- PrunedP4: array (nullable = true)\n",
      " |    |    |    |-- element: struct (containsNull = true)\n",
      " |    |    |    |    |-- TObject: struct (nullable = true)\n",
      " |    |    |    |    |    |-- fUniqueID: integer (nullable = true)\n",
      " |    |    |    |    |    |-- fBits: integer (nullable = true)\n",
      " |    |    |    |    |-- fP: struct (nullable = true)\n",
      " |    |    |    |    |    |-- TObject: struct (nullable = true)\n",
      " |    |    |    |    |    |    |-- fUniqueID: integer (nullable = true)\n",
      " |    |    |    |    |    |    |-- fBits: integer (nullable = true)\n",
      " |    |    |    |    |    |-- fX: double (nullable = true)\n",
      " |    |    |    |    |    |-- fY: double (nullable = true)\n",
      " |    |    |    |    |    |-- fZ: double (nullable = true)\n",
      " |    |    |    |    |-- fE: double (nullable = true)\n",
      " |    |    |-- SoftDroppedP4: array (nullable = true)\n",
      " |    |    |    |-- element: struct (containsNull = true)\n",
      " |    |    |    |    |-- TObject: struct (nullable = true)\n",
      " |    |    |    |    |    |-- fUniqueID: integer (nullable = true)\n",
      " |    |    |    |    |    |-- fBits: integer (nullable = true)\n",
      " |    |    |    |    |-- fP: struct (nullable = true)\n",
      " |    |    |    |    |    |-- TObject: struct (nullable = true)\n",
      " |    |    |    |    |    |    |-- fUniqueID: integer (nullable = true)\n",
      " |    |    |    |    |    |    |-- fBits: integer (nullable = true)\n",
      " |    |    |    |    |    |-- fX: double (nullable = true)\n",
      " |    |    |    |    |    |-- fY: double (nullable = true)\n",
      " |    |    |    |    |    |-- fZ: double (nullable = true)\n",
      " |    |    |    |    |-- fE: double (nullable = true)\n",
      " |    |    |-- NSubJetsTrimmed: integer (nullable = true)\n",
      " |    |    |-- NSubJetsPruned: integer (nullable = true)\n",
      " |    |    |-- NSubJetsSoftDropped: integer (nullable = true)\n",
      " |    |    |-- Jet_Area: struct (nullable = true)\n",
      " |    |    |    |-- TObject: struct (nullable = true)\n",
      " |    |    |    |    |-- fUniqueID: integer (nullable = true)\n",
      " |    |    |    |    |-- fBits: integer (nullable = true)\n",
      " |    |    |    |-- fP: struct (nullable = true)\n",
      " |    |    |    |    |-- TObject: struct (nullable = true)\n",
      " |    |    |    |    |    |-- fUniqueID: integer (nullable = true)\n",
      " |    |    |    |    |    |-- fBits: integer (nullable = true)\n",
      " |    |    |    |    |-- fX: double (nullable = true)\n",
      " |    |    |    |    |-- fY: double (nullable = true)\n",
      " |    |    |    |    |-- fZ: double (nullable = true)\n",
      " |    |    |    |-- fE: double (nullable = true)\n",
      "\n"
     ]
    }
   ],
   "source": [
    "df.printSchema()"
   ]
  },
  {
   "cell_type": "code",
   "execution_count": 5,
   "metadata": {},
   "outputs": [],
   "source": [
    "import numpy as np"
   ]
  },
  {
   "cell_type": "markdown",
   "metadata": {},
   "source": [
    "### Filter muons and electrons"
   ]
  },
  {
   "cell_type": "code",
   "execution_count": 6,
   "metadata": {},
   "outputs": [],
   "source": [
    "filtered = df.filter((df['MuonTight_size']!=0) | (df['Electron_size']!=0))"
   ]
  },
  {
   "cell_type": "code",
   "execution_count": 7,
   "metadata": {},
   "outputs": [
    {
     "data": {
      "text/plain": [
       "35101"
      ]
     },
     "execution_count": 7,
     "metadata": {},
     "output_type": "execute_result"
    }
   ],
   "source": [
    "df.count()"
   ]
  },
  {
   "cell_type": "code",
   "execution_count": 8,
   "metadata": {
    "scrolled": true
   },
   "outputs": [
    {
     "data": {
      "text/plain": [
       "29780"
      ]
     },
     "execution_count": 8,
     "metadata": {},
     "output_type": "execute_result"
    }
   ],
   "source": [
    "filtered.count()"
   ]
  },
  {
   "cell_type": "markdown",
   "metadata": {},
   "source": [
    "## Filter traks"
   ]
  },
  {
   "cell_type": "code",
   "execution_count": 9,
   "metadata": {},
   "outputs": [],
   "source": [
    "tracks = df.select('EFlowTrack').take(1)"
   ]
  },
  {
   "cell_type": "code",
   "execution_count": 10,
   "metadata": {},
   "outputs": [
    {
     "data": {
      "text/plain": [
       "390"
      ]
     },
     "execution_count": 10,
     "metadata": {},
     "output_type": "execute_result"
    }
   ],
   "source": [
    "len(tracks[0].EFlowTrack)"
   ]
  },
  {
   "cell_type": "code",
   "execution_count": 11,
   "metadata": {},
   "outputs": [
    {
     "data": {
      "text/plain": [
       "Row(fUniqueID=10596, fBits=50331664, PID=-211, Charge=-1, PT=0.4648737907409668, Eta=-0.3981272280216217, Phi=-2.126897096633911, EtaOuter=-3.879678964614868, PhiOuter=-1.96621572971344, X=0.0, Y=0.0, Z=36.448448181152344, T=2.1116360049422411e-10, XOuter=-47.7633056640625, YOuter=-114.42939758300781, ZOuter=-3000.0, TOuter=2.8104524929517538e-08, Dxy=-0.0, SDxy=0.0, Xd=0.0, Yd=-0.0, Zd=36.448448181152344, EFlowTrack_Particle=Row(TObject=Row(fUniqueID=0, fBits=65536)))"
      ]
     },
     "execution_count": 11,
     "metadata": {},
     "output_type": "execute_result"
    }
   ],
   "source": [
    "tracks[0].EFlowTrack[0]"
   ]
  },
  {
   "cell_type": "markdown",
   "metadata": {},
   "source": [
    "Default code is\n",
    "\n",
    "```Python\n",
    "def ChPtMapp(DR, event):\n",
    "    pTmap = []\n",
    "    for h in event.EFlowTrack:\n",
    "        if h.PT<= 0.5: continue\n",
    "        pTmap.append([h.Eta, h.Phi, h.PT])\n",
    "    return np.asarray(pTmap)\n",
    "```\n",
    "\n",
    "hence we can use HOF to filer all the particles in `EFlowTrack` with $p_T\\leq0.5$"
   ]
  },
  {
   "cell_type": "code",
   "execution_count": 12,
   "metadata": {},
   "outputs": [],
   "source": [
    "filtered.createOrReplaceTempView(\"events\")b"
   ]
  },
  {
   "cell_type": "code",
   "execution_count": 13,
   "metadata": {},
   "outputs": [
    {
     "name": "stdout",
     "output_type": "stream",
     "text": [
      "+----------------+-------------------+\n",
      "|size(EFlowTrack)|EFlowTrack_Filtered|\n",
      "+----------------+-------------------+\n",
      "|             390|                283|\n",
      "|             491|                347|\n",
      "|             398|                302|\n",
      "|             388|                297|\n",
      "|             136|                 96|\n",
      "+----------------+-------------------+\n",
      "only showing top 5 rows\n",
      "\n"
     ]
    }
   ],
   "source": [
    "spark.sql(\"\"\"\n",
    "SELECT cardinality(EFlowTrack),\n",
    "    cardinality(FILTER(EFlowTrack,\n",
    "        tracks -> tracks.PT > 0.5\n",
    "    )) EFlowTrack_Filtered\n",
    "FROM events\n",
    "\"\"\").show(5)"
   ]
  },
  {
   "cell_type": "markdown",
   "metadata": {},
   "source": [
    "We can do the same thing for the others, for example consider the photons"
   ]
  },
  {
   "cell_type": "code",
   "execution_count": 14,
   "metadata": {},
   "outputs": [
    {
     "name": "stdout",
     "output_type": "stream",
     "text": [
      "+-----------------+--------------------+\n",
      "|size(EFlowPhoton)|EFlowPhoton_Filtered|\n",
      "+-----------------+--------------------+\n",
      "|              556|                  78|\n",
      "|              635|                  89|\n",
      "|              509|                  76|\n",
      "|              555|                  68|\n",
      "|              190|                  30|\n",
      "+-----------------+--------------------+\n",
      "only showing top 5 rows\n",
      "\n"
     ]
    }
   ],
   "source": [
    "spark.sql(\"\"\"\n",
    "SELECT cardinality(EFlowPhoton),\n",
    "    cardinality(FILTER(EFlowPhoton,\n",
    "        photon -> photon.ET > 1\n",
    "    )) EFlowPhoton_Filtered\n",
    "FROM events\n",
    "\"\"\").show(5)"
   ]
  },
  {
   "cell_type": "markdown",
   "metadata": {},
   "source": [
    "and also neutral hadrons"
   ]
  },
  {
   "cell_type": "code",
   "execution_count": 15,
   "metadata": {
    "scrolled": true
   },
   "outputs": [
    {
     "name": "stdout",
     "output_type": "stream",
     "text": [
      "+------------------------+---------------------------+\n",
      "|size(EFlowNeutralHadron)|EFlowNeutralHadron_Filtered|\n",
      "+------------------------+---------------------------+\n",
      "|                     419|                        124|\n",
      "|                     450|                        128|\n",
      "|                     377|                        110|\n",
      "|                     412|                        126|\n",
      "|                     150|                         49|\n",
      "+------------------------+---------------------------+\n",
      "only showing top 5 rows\n",
      "\n"
     ]
    }
   ],
   "source": [
    "spark.sql(\"\"\"\n",
    "SELECT cardinality(EFlowNeutralHadron),\n",
    "    cardinality(FILTER(EFlowNeutralHadron,\n",
    "        hadron -> hadron.ET > 1\n",
    "    )) EFlowNeutralHadron_Filtered\n",
    "FROM events\n",
    "\"\"\").show(5)"
   ]
  },
  {
   "cell_type": "markdown",
   "metadata": {},
   "source": [
    "During the simulation of the trigger we require $p_T > 23\\,\\text{GeV}$ for muons and electrons"
   ]
  },
  {
   "cell_type": "markdown",
   "metadata": {},
   "source": [
    "## EXAMPLE"
   ]
  },
  {
   "cell_type": "code",
   "execution_count": 3,
   "metadata": {},
   "outputs": [],
   "source": [
    "events = spark.read.format(\"org.dianahep.sparkroot.experimental\")\\\n",
    "        .load(\"file:///afs/cern.ch/work/m/migliori/public/SparkPipeline/data/*.root\") \\\n",
    "        .select(*requiredColumns)\n",
    "        \n",
    "events.createOrReplaceTempView(\"events\")"
   ]
  },
  {
   "cell_type": "code",
   "execution_count": 4,
   "metadata": {},
   "outputs": [
    {
     "name": "stdout",
     "output_type": "stream",
     "text": [
      "+--------------+---------------+-----------------+-------------+\n",
      "|size(Electron)|size(MuonTight)|Electron_Filtered|Muon_Filtered|\n",
      "+--------------+---------------+-----------------+-------------+\n",
      "|             1|              0|                1|            0|\n",
      "|             0|              1|                0|            1|\n",
      "|             0|              1|                0|            0|\n",
      "|             0|              1|                0|            1|\n",
      "|             0|              1|                0|            1|\n",
      "+--------------+---------------+-----------------+-------------+\n",
      "only showing top 5 rows\n",
      "\n"
     ]
    }
   ],
   "source": [
    "spark.sql(\"\"\"\n",
    "SELECT \n",
    "    cardinality(Electron),\n",
    "    cardinality(MuonTight),\n",
    "    cardinality(FILTER(Electron,\n",
    "        electron -> electron.PT > 23\n",
    "    )) Electron_Filtered,\n",
    "    cardinality(FILTER(MuonTight,\n",
    "        muon -> muon.PT > 23\n",
    "    )) Muon_Filtered\n",
    "FROM events\n",
    "WHERE MuonTight_size > 0 OR  Electron_size > 0\n",
    "\"\"\").show(5)"
   ]
  },
  {
   "cell_type": "code",
   "execution_count": null,
   "metadata": {},
   "outputs": [],
   "source": [
    "## LEPTONS FILTERED! \n",
    "filteredLeptons = spark.sql(\"\"\"\n",
    "SELECT *\n",
    "FROM (\n",
    "    SELECT \n",
    "        EFlowTrack,\n",
    "        EFlowNeutralHadron,\n",
    "        EFlowPhoton ,\n",
    "        MissingET,\n",
    "        Jet,\n",
    "        FILTER(Electron, \n",
    "            electron -> electron.PT > 23\n",
    "        ) Electron,\n",
    "        FILTER(MuonTight,\n",
    "            muon -> muon.PT > 23\n",
    "        ) MuonTight\n",
    "    FROM events\n",
    "    WHERE MuonTight_size > 0 OR  Electron_size > 0\n",
    ") Filtered \n",
    "WHERE cardinality(Electron) > 0 \n",
    "      OR cardinality(MuonTight) > 0\n",
    "\"\"\")"
   ]
  },
  {
   "cell_type": "code",
   "execution_count": 6,
   "metadata": {},
   "outputs": [],
   "source": [
    "filteredLeptons.createTempView(\"filteredLeptons\")"
   ]
  },
  {
   "cell_type": "code",
   "execution_count": 7,
   "metadata": {},
   "outputs": [],
   "source": [
    "## Decrease number of tracks\n",
    "filteredDF = spark.sql(\"\"\"\n",
    "SELECT \n",
    "    FILTER(EFlowTrack,\n",
    "        tracks -> tracks.PT > 0.5\n",
    "    ) EFlowTrack, \n",
    "    \n",
    "    FILTER(EFlowNeutralHadron,\n",
    "        hadron -> hadron.ET > 1.0\n",
    "    ) EFlowNeutralHadron,\n",
    "    \n",
    "    FILTER(EFlowPhoton,\n",
    "        photon -> photon.ET > 1.0\n",
    "    ) EFlowPhoton,\n",
    "    \n",
    "    FILTER(Jet,\n",
    "        jet -> ((jet.PT>30.0) AND (ABS(jet.Eta)<2.6)) \n",
    "    ) Jets,\n",
    "    \n",
    "    MissingET,\n",
    "    Electron,\n",
    "    MuonTight\n",
    "FROM filteredLeptons\n",
    "\"\"\")"
   ]
  },
  {
   "cell_type": "code",
   "execution_count": 8,
   "metadata": {},
   "outputs": [],
   "source": [
    "filteredDF.createOrReplaceTempView(\"filteredDF\")"
   ]
  },
  {
   "cell_type": "code",
   "execution_count": 9,
   "metadata": {},
   "outputs": [],
   "source": [
    "## Reduce number of features\n",
    "reduced = spark.sql(\"\"\"\n",
    "SELECT\n",
    "     TRANSFORM(EFlowTrack,\n",
    "     track -> map_from_arrays(\n",
    "        Array(\"PT\", \"Eta\", \"Phi\", \"PID\", \"X\", \"Y\", \"Z\"),\n",
    "        Array(track.PT, track.Eta, track.Phi, track.PID, track.X, track.Y, track.Z)\n",
    "        )\n",
    "     ) Tracks,\n",
    "     \n",
    "     TRANSFORM(EFlowPhoton,\n",
    "     photon -> map_from_arrays(\n",
    "        Array(\"ET\", \"Eta\", \"Phi\"),\n",
    "        Array(photon.ET, photon.Eta, photon.Phi)\n",
    "        )\n",
    "     ) Photons,\n",
    "     \n",
    "     TRANSFORM(EFlowNeutralHadron,\n",
    "     hadron -> map_from_arrays(\n",
    "        Array(\"ET\", \"Eta\", \"Phi\"),\n",
    "        Array(hadron.ET, hadron.Eta, hadron.Phi)\n",
    "        )\n",
    "     ) NeutralHadrons,\n",
    "     \n",
    "     TRANSFORM(MissingET,\n",
    "     missingET -> map_from_arrays(\n",
    "        Array(\"MET\", \"Phi\"),\n",
    "        Array(missingET.MET, missingET.Phi)\n",
    "        )\n",
    "     ) MissingET,\n",
    "     \n",
    "     TRANSFORM(Jets,\n",
    "     jet -> map_from_arrays(\n",
    "        Array(\"PT\", \"BTag\"),\n",
    "        Array(jet.PT, jet.BTag)\n",
    "        )\n",
    "     ) Jets,\n",
    "     \n",
    "     TRANSFORM(Electron,\n",
    "     electron -> map_from_arrays(\n",
    "        Array(\"PT\", \"Eta\", \"Phi\", \"Charge\"),\n",
    "        Array(electron.PT, electron.Eta, electron.Phi, electron.Charge)\n",
    "        )\n",
    "     ) Electron,\n",
    "     \n",
    "     TRANSFORM(MuonTight,\n",
    "     muon -> map_from_arrays(\n",
    "        Array(\"PT\", \"Eta\", \"Phi\", \"Charge\"),\n",
    "        Array(muon.PT, muon.Eta, muon.Phi,muon.Charge)\n",
    "        )\n",
    "     ) MuonTight\n",
    "     \n",
    "FROM filteredDF\n",
    "\"\"\")"
   ]
  },
  {
   "cell_type": "code",
   "execution_count": 10,
   "metadata": {},
   "outputs": [
    {
     "name": "stdout",
     "output_type": "stream",
     "text": [
      "root\n",
      " |-- Tracks: array (nullable = true)\n",
      " |    |-- element: map (containsNull = false)\n",
      " |    |    |-- key: string\n",
      " |    |    |-- value: float (valueContainsNull = true)\n",
      " |-- Photons: array (nullable = true)\n",
      " |    |-- element: map (containsNull = false)\n",
      " |    |    |-- key: string\n",
      " |    |    |-- value: float (valueContainsNull = true)\n",
      " |-- NeutralHadrons: array (nullable = true)\n",
      " |    |-- element: map (containsNull = false)\n",
      " |    |    |-- key: string\n",
      " |    |    |-- value: float (valueContainsNull = true)\n",
      " |-- MissingET: array (nullable = true)\n",
      " |    |-- element: map (containsNull = false)\n",
      " |    |    |-- key: string\n",
      " |    |    |-- value: float (valueContainsNull = true)\n",
      " |-- Jets: array (nullable = true)\n",
      " |    |-- element: map (containsNull = false)\n",
      " |    |    |-- key: string\n",
      " |    |    |-- value: float (valueContainsNull = true)\n",
      " |-- Electron: array (nullable = true)\n",
      " |    |-- element: map (containsNull = false)\n",
      " |    |    |-- key: string\n",
      " |    |    |-- value: float (valueContainsNull = true)\n",
      " |-- MuonTight: array (nullable = true)\n",
      " |    |-- element: map (containsNull = false)\n",
      " |    |    |-- key: string\n",
      " |    |    |-- value: float (valueContainsNull = true)\n",
      "\n"
     ]
    }
   ],
   "source": [
    "reduced.printSchema()"
   ]
  },
  {
   "cell_type": "code",
   "execution_count": 19,
   "metadata": {},
   "outputs": [],
   "source": [
    "from pyspark.sql import Row\n",
    "from pyspark.sql.functions import pandas_udf, udf, col\n",
    "from pyspark.sql.types import ArrayType, DoubleType\n",
    "import numpy as np\n",
    "\n",
    "def convert(event):\n",
    "    q = LorentzVector()\n",
    "    particles = np.zeros((801,19))\n",
    "    index = 0\n",
    "    \n",
    "    TrkPtMap = ChPtMapp(event.Tracks)\n",
    "    NeuPtMap = NeuPtMapp(event.NeutralHadrons)\n",
    "    PhotonPtMap = PhotonPtMapp(event.Photons)\n",
    "    \n",
    "    ## Lepton Filter\n",
    "    selected, lep, otherlep = selection(event.Electron, event.MuonTight,\n",
    "                                        TrkPtMap, NeuPtMap, PhotonPtMap)\n",
    "    if not selected: return Row()\n",
    "    #particles.append(lep)\n",
    "    particles[index] = lep\n",
    "    index\n",
    "    lepMomentum = LorentzVector(lep[1], lep[2], lep[3], lep[0])\n",
    "    \n",
    "    nTrk = 0\n",
    "    for h in event.Tracks:\n",
    "        if nTrk>=450: break\n",
    "        q.SetPtEtaPhiM(h[\"PT\"], h[\"Eta\"], h[\"Phi\"], 0.)\n",
    "        if lepMomentum.DeltaR(q) > 0.0001:\n",
    "            pfisoCh = PFIso(q, 0.3, TrkPtMap, True)\n",
    "            pfisoNeu = PFIso(q, 0.3, NeuPtMap, False)\n",
    "            pfisoGamma = PFIso(q, 0.3, PhotonPtMap, False)\n",
    "            \"\"\"particles.append([q.E(), q.Px(), q.Py(), q.Pz(),\n",
    "                              h[\"PT\"], h[\"Eta\"], h[\"Phi\"], h[\"X\"], h[\"Y\"], h[\"Z\"],\n",
    "                              pfisoCh, pfisoGamma, pfisoNeu,\n",
    "                              1., 0., 0., 0., 0., np.sign(h[\"PID\"])])\"\"\"\n",
    "            particles[index] = [q.E(), q.Px(), q.Py(), q.Pz(),\n",
    "                              h[\"PT\"], h[\"Eta\"], h[\"Phi\"], h[\"X\"], h[\"Y\"], h[\"Z\"],\n",
    "                              pfisoCh, pfisoGamma, pfisoNeu,\n",
    "                              1., 0., 0., 0., 0., np.sign(h[\"PID\"])]\n",
    "            nTrk += 1\n",
    "            index += 1\n",
    "            \n",
    "    nPhoton = 0\n",
    "    for h in event.Photons:\n",
    "        if nPhoton >= 150: break\n",
    "        q.SetPtEtaPhiM(h[\"ET\"], h[\"Eta\"], h[\"Phi\"], 0.)\n",
    "        pfisoCh = PFIso(q, 0.3, TrkPtMap, True)\n",
    "        pfisoNeu = PFIso(q, 0.3, NeuPtMap, False)\n",
    "        pfisoGamma = PFIso(q, 0.3, PhotonPtMap, False)\n",
    "        \"\"\"particles.append([q.E(), q.Px(), q.Py(), q.Pz(),\n",
    "                          h[\"ET\"], h[\"Eta\"], h[\"Phi\"], 0., 0., 0.,\n",
    "                          pfisoCh, pfisoGamma, pfisoNeu,\n",
    "                          0., 0., 1., 0., 0., 0.])\"\"\"\n",
    "        particles[index] = [q.E(), q.Px(), q.Py(), q.Pz(),\n",
    "                          h[\"ET\"], h[\"Eta\"], h[\"Phi\"], 0., 0., 0.,\n",
    "                          pfisoCh, pfisoGamma, pfisoNeu,\n",
    "                          0., 0., 1., 0., 0., 0.]\n",
    "        nPhoton += 1\n",
    "        index += 1\n",
    "    \n",
    "    nNeu = 0\n",
    "    for h in event.NeutralHadrons:\n",
    "        if nNeu >= 200: break\n",
    "        q.SetPtEtaPhiM(h[\"ET\"], h[\"Eta\"], h[\"Phi\"], 0.)\n",
    "        pfisoCh = PFIso(q, 0.3, TrkPtMap, True)\n",
    "        pfisoNeu = PFIso(q, 0.3, NeuPtMap, False)\n",
    "        pfisoGamma = PFIso(q, 0.3, PhotonPtMap, False)\n",
    "        \"\"\"particles.append([q.E(), q.Px(), q.Py(), q.Pz(),\n",
    "                          h[\"ET\"], h[\"Eta\"], h[\"Phi\"], 0., 0., 0.,\n",
    "                          pfisoCh, pfisoGamma, pfisoNeu,\n",
    "                          0., 1., 0., 0., 0., 0.])\"\"\"\n",
    "        particles[index] = [q.E(), q.Px(), q.Py(), q.Pz(),\n",
    "                          h[\"ET\"], h[\"Eta\"], h[\"Phi\"], 0., 0., 0.,\n",
    "                          pfisoCh, pfisoGamma, pfisoNeu,\n",
    "                          0., 1., 0., 0., 0., 0.]\n",
    "        nNeu += 1\n",
    "        index += 1\n",
    "        \n",
    "    ## Build high level features\n",
    "    \n",
    "    myMET = event.MissingET[0]\n",
    "    MET = myMET[\"MET\"]\n",
    "    phiMET = myMET[\"Phi\"]\n",
    "    MT = 2.*MET*lepMomentum.Pt()*(1-math.cos(lepMomentum.Phi()-phiMET))\n",
    "    HT = 0.\n",
    "    nJets = 0.\n",
    "    nBjets = 0.\n",
    "    for jet in event.Jets:\n",
    "        nJets += 1\n",
    "        HT += jet[\"PT\"]\n",
    "        if jet[\"BTag\"]>0: \n",
    "            nBjets += 1\n",
    "    LepPt = lep[4]\n",
    "    LepEta = lep[5]\n",
    "    LepPhi = lep[6]\n",
    "    LepIsoCh = lep[10]\n",
    "    LepIsoGamma = lep[11]\n",
    "    LepIsoNeu = lep[12]\n",
    "    LepCharge = lep[18]\n",
    "    LepIsEle = lep[16]\n",
    "    \n",
    "    hlf = [HT, MET, phiMET, MT, nJets, nBjets, LepPt, LepEta, LepPhi,\n",
    "           LepIsoCh, LepIsoGamma, LepIsoNeu, LepCharge, LepIsEle]\n",
    "    \n",
    "    return Row(hlf=hlf)"
   ]
  },
  {
   "cell_type": "code",
   "execution_count": 20,
   "metadata": {
    "scrolled": false
   },
   "outputs": [
    {
     "name": "stdout",
     "output_type": "stream",
     "text": [
      "CPU times: user 504 ms, sys: 130 ms, total: 634 ms\n",
      "Wall time: 5min 44s\n"
     ]
    }
   ],
   "source": [
    "%time collected = reduced.rdd.map(convert).filter(lambda row: len(row) > 0).toDF().collect()"
   ]
  },
  {
   "cell_type": "markdown",
   "metadata": {},
   "source": [
    "**Time reduced from 11mins to 5min 44s**"
   ]
  },
  {
   "cell_type": "code",
   "execution_count": 12,
   "metadata": {},
   "outputs": [
    {
     "data": {
      "text/plain": [
       "205097"
      ]
     },
     "execution_count": 12,
     "metadata": {},
     "output_type": "execute_result"
    }
   ],
   "source": [
    "events.count()"
   ]
  },
  {
   "cell_type": "code",
   "execution_count": 13,
   "metadata": {},
   "outputs": [
    {
     "data": {
      "text/plain": [
       "103539"
      ]
     },
     "execution_count": 13,
     "metadata": {},
     "output_type": "execute_result"
    }
   ],
   "source": [
    "reduced.count()"
   ]
  },
  {
   "cell_type": "markdown",
   "metadata": {},
   "source": [
    "## Functions"
   ]
  },
  {
   "cell_type": "code",
   "execution_count": 14,
   "metadata": {},
   "outputs": [],
   "source": [
    "import math\n",
    "def PFIso(p, DR, PtMap, subtractPt):\n",
    "    if p.Pt() <= 0.: return 0.\n",
    "    DeltaEta = PtMap[:,0] - p.Eta()\n",
    "    DeltaPhi = PtMap[:,1] - p.Phi()\n",
    "    twopi = 2.*math.pi\n",
    "    DeltaPhi = DeltaPhi - twopi*(DeltaPhi >  twopi) + twopi*(DeltaPhi < -1.*twopi)\n",
    "    isInCone = DeltaPhi*DeltaPhi + DeltaEta*DeltaEta < DR*DR\n",
    "    Iso = PtMap[isInCone, 2].sum()/p.Pt()\n",
    "    if subtractPt: Iso = Iso -1\n",
    "    return float(Iso)\n",
    "\n",
    "# get the selected tracks\n",
    "def ChPtMapp(Tracks):\n",
    "    #pTmap = []\n",
    "    pTmap = np.zeros((len(Tracks), 3))\n",
    "    for i, h in enumerate(Tracks):\n",
    "        pTmap[i] = [h[\"Eta\"], h[\"Phi\"], h[\"PT\"]]\n",
    "    return pTmap\n",
    "\n",
    "# get the selected neutrals\n",
    "def NeuPtMapp(NeutralHadrons):\n",
    "    pTmap = np.zeros((len(NeutralHadrons), 3))\n",
    "    for i, h in enumerate(NeutralHadrons):\n",
    "        pTmap[i] = [h[\"Eta\"], h[\"Phi\"], h[\"ET\"]]\n",
    "    return pTmap\n",
    "\n",
    "# get the selected photons\n",
    "def PhotonPtMapp(Photons):\n",
    "    pTmap = np.zeros((len(Photons), 3))\n",
    "    for i, h in enumerate(Photons):\n",
    "        pTmap[i] = [h[\"Eta\"], h[\"Phi\"], h[\"ET\"]]\n",
    "    return pTmap"
   ]
  },
  {
   "cell_type": "code",
   "execution_count": 15,
   "metadata": {},
   "outputs": [],
   "source": [
    "def selection(Electron, MuonTight, TrkPtMap, NeuPtMap, PhotonPtMap):\n",
    "    \n",
    "    foundMuon = None \n",
    "    foundEle =  None \n",
    "\n",
    "    l = LorentzVector()\n",
    "    for ele in Electron:\n",
    "\n",
    "        l.SetPtEtaPhiM(ele[\"PT\"], ele[\"Eta\"], ele[\"Phi\"], 0.)\n",
    "        \n",
    "        pfisoCh = PFIso(l, 0.3, TrkPtMap, True)\n",
    "        pfisoNeu = PFIso(l, 0.3, NeuPtMap, False)\n",
    "        pfisoGamma = PFIso(l, 0.3, PhotonPtMap, False)\n",
    "        if foundEle == None and (pfisoCh+pfisoNeu+pfisoGamma)<0.45:\n",
    "            foundEle = [l.E(), l.Px(), l.Py(), l.Pz(), l.Pt(), l.Eta(), l.Phi(),\n",
    "                        0., 0., 0., pfisoCh, pfisoGamma, pfisoNeu,\n",
    "                        0., 0., 0., 1., 0., float(ele[\"Charge\"])]\n",
    "    for muon in MuonTight:\n",
    "        #\n",
    "        # Has to replace the TLorentzVector functionality\n",
    "        #\n",
    "        l.SetPtEtaPhiM(muon[\"PT\"], muon[\"Eta\"], muon[\"Phi\"], 0.)\n",
    "        \n",
    "        pfisoCh = PFIso(l, 0.3, TrkPtMap, True)\n",
    "        pfisoNeu = PFIso(l, 0.3, NeuPtMap, False)\n",
    "        pfisoGamma = PFIso(l, 0.3, PhotonPtMap, False)\n",
    "        if foundMuon == None and (pfisoCh+pfisoNeu+pfisoGamma)<0.45:\n",
    "            foundMuon = [l.E(), l.Px(), l.Py(), l.Pz(), l.Pt(), l.Eta(), l.Phi(),\n",
    "                         0., 0., 0., pfisoCh, pfisoGamma, pfisoNeu,\n",
    "                         0., 0., 0., 0., 1., float(muon[\"Charge\"])]\n",
    "    if foundEle != None and foundMuon != None:\n",
    "        if foundEle[5] > foundMuon[5]:\n",
    "            return True, foundEle, foundMuon\n",
    "        else:\n",
    "            return True, foundMuon, foundEle\n",
    "    if foundEle != None: return True, foundEle, foundMuon\n",
    "    if foundMuon != None: return True, foundMuon, foundEle\n",
    "    return False, None, None"
   ]
  },
  {
   "cell_type": "code",
   "execution_count": 16,
   "metadata": {},
   "outputs": [],
   "source": [
    "def Phi_mpi_pi(x):\n",
    "    while x >= 3.1415: \n",
    "        x -= 2*3.1415\n",
    "    while x < -3.1415:\n",
    "        x += 2*3.1415\n",
    "    return x"
   ]
  },
  {
   "cell_type": "code",
   "execution_count": 17,
   "metadata": {},
   "outputs": [],
   "source": [
    "class LorentzVector(object):\n",
    "    def __init__(self, *args):\n",
    "        if len(args)>0:\n",
    "            self.x = args[0]\n",
    "            self.y = args[1]\n",
    "            self.z = args[2]\n",
    "            self.t = args[3]\n",
    "    \n",
    "    def SetPtEtaPhiM(self, pt, eta, phi, mass):\n",
    "        pt = abs(pt)\n",
    "        self.SetXYZM(pt*math.cos(phi), pt*math.sin(phi), pt*math.sinh(eta), mass)\n",
    "        \n",
    "    def SetXYZM(self, x, y, z, m):\n",
    "        self.x = x;\n",
    "        self.y = y\n",
    "        self.z = z\n",
    "        if (m>=0):\n",
    "            self.t = math.sqrt(x*x + y*y + z*z + m*m)\n",
    "        else:\n",
    "            self.t = math.sqrt(max(x*x + y*y + z*z - m*m, 0))\n",
    "            \n",
    "    def E(self):\n",
    "        return self.t\n",
    "    \n",
    "    def Px(self): \n",
    "        return self.x\n",
    "    \n",
    "    def Py(self):\n",
    "        return self.y\n",
    "    \n",
    "    def Pz(self):\n",
    "        return self.z\n",
    "    \n",
    "    def Pt(self):\n",
    "        return math.sqrt(self.x*self.x + self.y*self.y)\n",
    "    \n",
    "    def Eta(self):\n",
    "        cosTheta = self.CosTheta()\n",
    "        if cosTheta*cosTheta<1:\n",
    "            return -0.5*math.log((1.0 - cosTheta)/(1.0 + cosTheta))\n",
    "        if self.z == 0: return 0\n",
    "    \n",
    "    def mag(self):\n",
    "        return math.sqrt(self.x*self.x + self.y*self.y + self.z*self.z)\n",
    "    \n",
    "    def CosTheta(self):\n",
    "        return 1.0 if self.mag()==0.0 else self.z/self.mag()\n",
    "    \n",
    "    def Phi(self):\n",
    "        return math.atan2(self.y, self.x)\n",
    "    \n",
    "    def DeltaR(self, other):\n",
    "        deta = self.Eta() - other.Eta()\n",
    "        dphi = Phi_mpi_pi(self.Phi() - other.Phi())\n",
    "        return math.sqrt(deta*deta + dphi*dphi)"
   ]
  }
 ],
 "metadata": {
  "kernelspec": {
   "display_name": "Python 3",
   "language": "python",
   "name": "python3"
  },
  "language_info": {
   "codemirror_mode": {
    "name": "ipython",
    "version": 3
   },
   "file_extension": ".py",
   "mimetype": "text/x-python",
   "name": "python",
   "nbconvert_exporter": "python",
   "pygments_lexer": "ipython3",
   "version": "3.7.0"
  }
 },
 "nbformat": 4,
 "nbformat_minor": 2
}
